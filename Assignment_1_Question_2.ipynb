{
 "cells": [
  {
   "cell_type": "code",
   "execution_count": 1,
   "metadata": {},
   "outputs": [
    {
     "name": "stdout",
     "output_type": "stream",
     "text": [
      "enter the firstname: manoj\n",
      "enter the lastname: kumar\n",
      "jonam ramuk\n"
     ]
    }
   ],
   "source": [
    "firstname = input(\"enter the firstname: \")\n",
    "\n",
    "lastname = input(\"enter the lastname: \")\n",
    "\n",
    "Rev_firstname = firstname[::-1] #reversing first name.\n",
    "\n",
    "Rev_lastname = lastname[::-1] #reversing last name\n",
    "\n",
    "print(Rev_firstname +\" \" +Rev_lastname) #printing reversed first and last name with a space between them."
   ]
  },
  {
   "cell_type": "code",
   "execution_count": null,
   "metadata": {},
   "outputs": [],
   "source": []
  }
 ],
 "metadata": {
  "kernelspec": {
   "display_name": "Python 3",
   "language": "python",
   "name": "python3"
  },
  "language_info": {
   "codemirror_mode": {
    "name": "ipython",
    "version": 3
   },
   "file_extension": ".py",
   "mimetype": "text/x-python",
   "name": "python",
   "nbconvert_exporter": "python",
   "pygments_lexer": "ipython3",
   "version": "3.7.6"
  }
 },
 "nbformat": 4,
 "nbformat_minor": 4
}
