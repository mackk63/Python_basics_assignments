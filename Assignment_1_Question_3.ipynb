{
 "cells": [
  {
   "cell_type": "markdown",
   "metadata": {},
   "source": [
    "# A1 Q3. - Write a Python program to find the volume of a sphere with diameter 12 cm. "
   ]
  },
  {
   "cell_type": "code",
   "execution_count": 4,
   "metadata": {},
   "outputs": [
    {
     "name": "stdout",
     "output_type": "stream",
     "text": [
      "The volume of sphere is 904.7786842338604 cubic cm\n"
     ]
    }
   ],
   "source": [
    "Diameter = 12\n",
    "\n",
    "Radius = Diameter/2 #dividing diameter by 2.\n",
    "\n",
    "pi = 3.141592653589793238 \n",
    "\n",
    "volume = 4/3*(Radius**3)*pi #sphere volume formula\n",
    "\n",
    "print(\"The volume of sphere is\", volume, \"cubic cm\") #Output statement"
   ]
  }
 ],
 "metadata": {
  "kernelspec": {
   "display_name": "Python 3",
   "language": "python",
   "name": "python3"
  },
  "language_info": {
   "codemirror_mode": {
    "name": "ipython",
    "version": 3
   },
   "file_extension": ".py",
   "mimetype": "text/x-python",
   "name": "python",
   "nbconvert_exporter": "python",
   "pygments_lexer": "ipython3",
   "version": "3.7.6"
  }
 },
 "nbformat": 4,
 "nbformat_minor": 4
}
